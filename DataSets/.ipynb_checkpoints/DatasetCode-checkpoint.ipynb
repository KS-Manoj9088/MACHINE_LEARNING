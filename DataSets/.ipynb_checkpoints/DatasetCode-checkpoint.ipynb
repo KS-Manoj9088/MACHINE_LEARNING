{
 "cells": [
  {
   "cell_type": "code",
   "execution_count": 8,
   "metadata": {},
   "outputs": [
    {
     "name": "stdout",
     "output_type": "stream",
     "text": [
      "    Age  Income  Gender  Spending_Score  Purchase  Group_Label\n",
      "0    58      67       0              60         1            7\n",
      "1    48      74       1               2         1            4\n",
      "2    34      42       0               1         0            3\n",
      "3    27      43       1              48         1            3\n",
      "4    40      56       1              12         0            4\n",
      "..  ...     ...     ...             ...       ...          ...\n",
      "95   28      51       1              85         1            5\n",
      "96   27      51       1              32         0            3\n",
      "97   31      43       1              87         0            6\n",
      "98   53      60       0              33         0            6\n",
      "99   52      71       1              67         1            7\n",
      "\n",
      "[100 rows x 6 columns]\n"
     ]
    }
   ],
   "source": [
    "import pandas as pd\n",
    "import numpy as np\n",
    "\n",
    "# Set random seed for reproducibility\n",
    "np.random.seed(42)\n",
    "\n",
    "# Generate synthetic dataset\n",
    "n_samples = 100\n",
    "age = np.random.randint(20, 60, size=n_samples)\n",
    "income = np.random.randint(20, 80, size=n_samples)\n",
    "gender = np.random.choice([0, 1], size=n_samples)  # 0 = Male, 1 = Female\n",
    "spending_score = np.random.randint(1, 101, size=n_samples)  # 1-100 spending score\n",
    "purchase = np.random.choice([0, 1], size=n_samples)  # 0 = didn't purchase, 1 = purchased\n",
    "\n",
    "# Creating a Group Label (for clustering: Age + Spending Score categories)\n",
    "group_label = (age // 10) + (spending_score // 25)\n",
    "\n",
    "# Create DataFrame\n",
    "df = pd.DataFrame({\n",
    "    'Age': age,\n",
    "    'Income': income,\n",
    "    'Gender': gender,\n",
    "    'Spending_Score': spending_score,\n",
    "    'Purchase': purchase,\n",
    "    'Group_Label': group_label,\n",
    "})\n",
    "\n",
    "# Save DataFrame as CSV file\n",
    "df.to_csv(r'C:\\Users\\krk33\\ML\\DataSets\\ML_DATASET.csv', index=False)\n",
    "\n",
    "# Display the first few rows of the dataset\n",
    "print(df)\n"
   ]
  }
 ],
 "metadata": {
  "kernelspec": {
   "display_name": "Python 3 (ipykernel)",
   "language": "python",
   "name": "python3"
  }
 },
 "nbformat": 4,
 "nbformat_minor": 2
}
